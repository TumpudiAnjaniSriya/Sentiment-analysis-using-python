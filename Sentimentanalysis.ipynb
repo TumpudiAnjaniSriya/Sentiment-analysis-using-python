{
  "nbformat": 4,
  "nbformat_minor": 0,
  "metadata": {
    "colab": {
      "provenance": []
    },
    "kernelspec": {
      "name": "python3",
      "display_name": "Python 3"
    },
    "language_info": {
      "name": "python"
    }
  },
  "cells": [
    {
      "cell_type": "code",
      "source": [
        "import pandas as pd\n",
        "\n",
        "\n",
        "df = pd.read_csv('/content/user_review.csv')\n",
        "\n",
        "# Display the first few rows of the dataframe to understand its structure\n",
        "print(df.head()) # to display first five lines\n",
        "print(df.tail()) # to display last five lines\n",
        "print(df) # to display entire data frame"
      ],
      "metadata": {
        "colab": {
          "base_uri": "https://localhost:8080/"
        },
        "id": "GJiLr3MYSSnF",
        "outputId": "907dbc3c-8f19-4860-e607-782c027adf16"
      },
      "execution_count": 1,
      "outputs": [
        {
          "output_type": "stream",
          "name": "stdout",
          "text": [
            "   id                                             review\n",
            "0   1  I love this app! It is so useful and easy to use.\n",
            "1   2  Terrible experience. The app crashes all the t...\n",
            "2   3        Decent app but needs improvement in the UI.\n",
            "3   4           Fantastic! This app has changed my life.\n",
            "4   5       The app is okay, but it lacks many features.\n",
            "    id                                  review\n",
            "45  46               Helpful customer support.\n",
            "46  47  The app doesn’t have enough tutorials.\n",
            "47  48  Fantastic performance and reliability.\n",
            "48  49           I wouldn’t use any other app.\n",
            "49  50          The app could use a dark mode.\n",
            "    id                                             review\n",
            "0    1  I love this app! It is so useful and easy to use.\n",
            "1    2  Terrible experience. The app crashes all the t...\n",
            "2    3        Decent app but needs improvement in the UI.\n",
            "3    4           Fantastic! This app has changed my life.\n",
            "4    5       The app is okay, but it lacks many features.\n",
            "5    6                Worst app ever. It is full of bugs.\n",
            "6    7  Excellent functionality and user-friendly design.\n",
            "7    8  Not bad, but there are better alternatives out...\n",
            "8    9  I'm very satisfied with this app. Highly recom...\n",
            "9   10         The app is slow and unresponsive at times.\n",
            "10  11           Good app, but it could use some updates.\n",
            "11  12  I had a bad experience. The customer support i...\n",
            "12  13         Amazing app! Very intuitive and efficient.\n",
            "13  14              It's an average app. Nothing special.\n",
            "14  15  I've been using this app for months and I love...\n",
            "15  16  Disappointed. The app doesn't work as advertised.\n",
            "16  17  Pretty good app, but there's room for improvem...\n",
            "17  18           I wouldn't recommend this app to anyone.\n",
            "18  19     The app is great, but it crashes occasionally.\n",
            "19  20  Very pleased with this app. It meets all my ne...\n",
            "20  21                 This app exceeded my expectations.\n",
            "21  22          The interface is cluttered and confusing.\n",
            "22  23                   Great app, but a bit overpriced.\n",
            "23  24           Very buggy. Needs a lot of improvements.\n",
            "24  25                The customer service was excellent.\n",
            "25  26             I found this app to be very intuitive.\n",
            "26  27              Not worth the money. I want a refund.\n",
            "27  28                      The best app in its category!\n",
            "28  29             The latest update broke many features.\n",
            "29  30                  Highly useful for my daily tasks.\n",
            "30  31                    I encountered frequent crashes.\n",
            "31  32               Very satisfied with the performance.\n",
            "32  33                    The design is sleek and modern.\n",
            "33  34          The app is not compatible with my device.\n",
            "34  35      I love the new features in the latest update.\n",
            "35  36                 The app drains my battery quickly.\n",
            "36  37                       User-friendly and efficient.\n",
            "37  38                     Too many ads make it unusable.\n",
            "38  39                        Reliable and performs well.\n",
            "39  40           The app is okay but needs more features.\n",
            "40  41          It’s good, but I had higher expectations.\n",
            "41  42               I’ve had a smooth experience so far.\n",
            "42  43            Not intuitive at all. Very complicated.\n",
            "43  44                    One of the best apps I’ve used.\n",
            "44  45                 The app often freezes and crashes.\n",
            "45  46                          Helpful customer support.\n",
            "46  47             The app doesn’t have enough tutorials.\n",
            "47  48             Fantastic performance and reliability.\n",
            "48  49                      I wouldn’t use any other app.\n",
            "49  50                     The app could use a dark mode.\n"
          ]
        }
      ]
    },
    {
      "cell_type": "code",
      "source": [
        "# Cleaning the data- remove null values\n",
        "df = df.dropna()\n",
        "df = df[['review']]"
      ],
      "metadata": {
        "id": "rEFVZXbFTpTg"
      },
      "execution_count": 2,
      "outputs": []
    },
    {
      "cell_type": "code",
      "source": [
        "# Perfoming basic text processing\n",
        "import re\n",
        "import string\n",
        "def preprocess_text(text):\n",
        "    # Convert to lowercase\n",
        "    text = text.lower()\n",
        "    # Remove punctuation\n",
        "    text = text.translate(str.maketrans('', '', string.punctuation))\n",
        "    # Remove extra whitespace\n",
        "    text = text.strip()\n",
        "    text = re.sub(r'\\s+', ' ', text)\n",
        "    return text\n",
        "\n",
        "# Apply preprocessing\n",
        "df['review'] = df['review'].apply(preprocess_text)\n",
        "print(df)"
      ],
      "metadata": {
        "colab": {
          "base_uri": "https://localhost:8080/"
        },
        "id": "oteig364VAy4",
        "outputId": "77b6ae31-f62d-4d47-fa57-89bf96d9d8e1"
      },
      "execution_count": 3,
      "outputs": [
        {
          "output_type": "stream",
          "name": "stdout",
          "text": [
            "                                               review\n",
            "0     i love this app it is so useful and easy to use\n",
            "1    terrible experience the app crashes all the time\n",
            "2          decent app but needs improvement in the ui\n",
            "3              fantastic this app has changed my life\n",
            "4          the app is okay but it lacks many features\n",
            "5                   worst app ever it is full of bugs\n",
            "6     excellent functionality and userfriendly design\n",
            "7   not bad but there are better alternatives out ...\n",
            "8   im very satisfied with this app highly recomme...\n",
            "9           the app is slow and unresponsive at times\n",
            "10             good app but it could use some updates\n",
            "11  i had a bad experience the customer support is...\n",
            "12           amazing app very intuitive and efficient\n",
            "13                 its an average app nothing special\n",
            "14   ive been using this app for months and i love it\n",
            "15     disappointed the app doesnt work as advertised\n",
            "16    pretty good app but theres room for improvement\n",
            "17             i wouldnt recommend this app to anyone\n",
            "18       the app is great but it crashes occasionally\n",
            "19   very pleased with this app it meets all my needs\n",
            "20                  this app exceeded my expectations\n",
            "21           the interface is cluttered and confusing\n",
            "22                     great app but a bit overpriced\n",
            "23             very buggy needs a lot of improvements\n",
            "24                 the customer service was excellent\n",
            "25              i found this app to be very intuitive\n",
            "26                not worth the money i want a refund\n",
            "27                       the best app in its category\n",
            "28              the latest update broke many features\n",
            "29                   highly useful for my daily tasks\n",
            "30                     i encountered frequent crashes\n",
            "31                very satisfied with the performance\n",
            "32                     the design is sleek and modern\n",
            "33           the app is not compatible with my device\n",
            "34       i love the new features in the latest update\n",
            "35                  the app drains my battery quickly\n",
            "36                         userfriendly and efficient\n",
            "37                      too many ads make it unusable\n",
            "38                         reliable and performs well\n",
            "39            the app is okay but needs more features\n",
            "40            it’s good but i had higher expectations\n",
            "41                i’ve had a smooth experience so far\n",
            "42              not intuitive at all very complicated\n",
            "43                     one of the best apps i’ve used\n",
            "44                  the app often freezes and crashes\n",
            "45                           helpful customer support\n",
            "46              the app doesn’t have enough tutorials\n",
            "47              fantastic performance and reliability\n",
            "48                       i wouldn’t use any other app\n",
            "49                      the app could use a dark mode\n"
          ]
        }
      ]
    },
    {
      "cell_type": "code",
      "source": [
        "# Analyzing the sentiment of each review by using Sentiment Analysis\n",
        "import nltk\n",
        "from nltk.sentiment.vader import SentimentIntensityAnalyzer\n",
        "\n",
        "# Download the VADER lexicon if not already done\n",
        "nltk.download('vader_lexicon')\n",
        "\n",
        "# Function inorder to get sentiment\n",
        "def get_sentiment(review):\n",
        "    sid = SentimentIntensityAnalyzer()\n",
        "# Get the sentiment scores\n",
        "    scores = sid.polarity_scores(review)\n",
        "    # Determine the sentiment category\n",
        "    if scores['compound'] >= 0.05:\n",
        "        return 'positive'\n",
        "    elif scores['compound'] <= -0.05:\n",
        "        return  'negative'\n",
        "    else:\n",
        "        return 'neutral'\n",
        "# Applying sentiment analysis\n",
        "df['sentiment'] = df['review'].apply(get_sentiment)\n",
        "print(df)\n",
        "\n",
        "\n"
      ],
      "metadata": {
        "colab": {
          "base_uri": "https://localhost:8080/"
        },
        "id": "1Y3LpjqnWGcM",
        "outputId": "8753173a-a83e-4b16-b3c8-3cac5b848d62"
      },
      "execution_count": 4,
      "outputs": [
        {
          "output_type": "stream",
          "name": "stderr",
          "text": [
            "[nltk_data] Downloading package vader_lexicon to /root/nltk_data...\n"
          ]
        },
        {
          "output_type": "stream",
          "name": "stdout",
          "text": [
            "                                               review sentiment\n",
            "0     i love this app it is so useful and easy to use  positive\n",
            "1    terrible experience the app crashes all the time  negative\n",
            "2          decent app but needs improvement in the ui  positive\n",
            "3              fantastic this app has changed my life  positive\n",
            "4          the app is okay but it lacks many features  positive\n",
            "5                   worst app ever it is full of bugs  negative\n",
            "6     excellent functionality and userfriendly design  positive\n",
            "7   not bad but there are better alternatives out ...  positive\n",
            "8   im very satisfied with this app highly recomme...  positive\n",
            "9           the app is slow and unresponsive at times   neutral\n",
            "10             good app but it could use some updates  positive\n",
            "11  i had a bad experience the customer support is...  negative\n",
            "12           amazing app very intuitive and efficient  positive\n",
            "13                 its an average app nothing special  negative\n",
            "14   ive been using this app for months and i love it  positive\n",
            "15     disappointed the app doesnt work as advertised  negative\n",
            "16    pretty good app but theres room for improvement  positive\n",
            "17             i wouldnt recommend this app to anyone  negative\n",
            "18       the app is great but it crashes occasionally  positive\n",
            "19   very pleased with this app it meets all my needs  positive\n",
            "20                  this app exceeded my expectations   neutral\n",
            "21           the interface is cluttered and confusing  negative\n",
            "22                     great app but a bit overpriced  positive\n",
            "23             very buggy needs a lot of improvements  positive\n",
            "24                 the customer service was excellent  positive\n",
            "25              i found this app to be very intuitive   neutral\n",
            "26                not worth the money i want a refund  negative\n",
            "27                       the best app in its category  positive\n",
            "28              the latest update broke many features  negative\n",
            "29                   highly useful for my daily tasks  positive\n",
            "30                     i encountered frequent crashes   neutral\n",
            "31                very satisfied with the performance  positive\n",
            "32                     the design is sleek and modern   neutral\n",
            "33           the app is not compatible with my device   neutral\n",
            "34       i love the new features in the latest update  positive\n",
            "35                  the app drains my battery quickly   neutral\n",
            "36                         userfriendly and efficient  positive\n",
            "37                      too many ads make it unusable   neutral\n",
            "38                         reliable and performs well  positive\n",
            "39            the app is okay but needs more features  positive\n",
            "40            it’s good but i had higher expectations  positive\n",
            "41                i’ve had a smooth experience so far   neutral\n",
            "42              not intuitive at all very complicated   neutral\n",
            "43                     one of the best apps i’ve used  positive\n",
            "44                  the app often freezes and crashes   neutral\n",
            "45                           helpful customer support  positive\n",
            "46              the app doesn’t have enough tutorials   neutral\n",
            "47              fantastic performance and reliability  positive\n",
            "48                       i wouldn’t use any other app   neutral\n",
            "49                      the app could use a dark mode   neutral\n"
          ]
        }
      ]
    },
    {
      "cell_type": "code",
      "source": [
        "import matplotlib.pyplot as plt\n",
        "\n",
        "# Count the occurrences of each sentiment\n",
        "sentiment_counts = df['sentiment'].value_counts()\n",
        "\n",
        "# Plotting the bar chart\n",
        "plt.bar(sentiment_counts.index, sentiment_counts.values, color=['green', 'red', 'blue'])\n",
        "plt.xlabel('Sentiment')\n",
        "plt.ylabel('Count')\n",
        "plt.title('Distribution of Sentiments')\n",
        "plt.show()"
      ],
      "metadata": {
        "colab": {
          "base_uri": "https://localhost:8080/",
          "height": 472
        },
        "id": "75XpxOVJ7vXL",
        "outputId": "114d26f6-e39a-4861-b9e0-3af0008a3de9"
      },
      "execution_count": 5,
      "outputs": [
        {
          "output_type": "display_data",
          "data": {
            "text/plain": [
              "<Figure size 640x480 with 1 Axes>"
            ],
            "image/png": "[encoded data removed]"
          },
          "metadata": {}
        }
      ]
    }
  ]
}